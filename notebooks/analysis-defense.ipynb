{
 "cells": [
  {
   "cell_type": "code",
   "execution_count": 5,
   "metadata": {},
   "outputs": [],
   "source": [
    "import json\n",
    "import pandas as pd\n",
    "import matplotlib.pyplot as plt"
   ]
  },
  {
   "cell_type": "code",
   "execution_count": 6,
   "metadata": {},
   "outputs": [],
   "source": [
    "RESULTS_FILENAMES = [\"llama_2_defense.json\", \"vicuna_defense.json\", \"gpt_3_5_defense.json\", \"gpt_4o_defense.json\"]\n",
    "MODEL_NAMES = [\"LLaMA-2-7B\", \"Vicuna-13B\", \"GPT-3.5 Turbo\", \"GPT-4o\"]"
   ]
  },
  {
   "cell_type": "markdown",
   "metadata": {},
   "source": [
    "# Load all results"
   ]
  },
  {
   "cell_type": "code",
   "execution_count": 8,
   "metadata": {},
   "outputs": [],
   "source": [
    "def load_json(file_path):\n",
    "    \"\"\"Load JSON data from a file.\"\"\"\n",
    "    with open(f\"../results/{file_path}\", \"r\") as file:\n",
    "        return json.load(file)"
   ]
  },
  {
   "cell_type": "code",
   "execution_count": 9,
   "metadata": {},
   "outputs": [],
   "source": [
    "all_results = [load_json(filename) for filename in RESULTS_FILENAMES]"
   ]
  },
  {
   "cell_type": "code",
   "execution_count": 10,
   "metadata": {},
   "outputs": [],
   "source": [
    "APPROACHES = {\n",
    "    approach\n",
    "    for approach in all_results[0][0][\"output\"].keys()\n",
    "}"
   ]
  },
  {
   "cell_type": "markdown",
   "metadata": {},
   "source": [
    "# Average Rating"
   ]
  },
  {
   "cell_type": "code",
   "execution_count": 12,
   "metadata": {},
   "outputs": [],
   "source": [
    "def summarize_results(json_data, model_name):\n",
    "    \"\"\"\n",
    "    Summarize the results by calculating the average of the highest ratings\n",
    "    for each objective.\n",
    "    \"\"\"\n",
    "    results = {}\n",
    "    for entry in json_data:\n",
    "        objective = entry[\"objective_misuse\"]\n",
    "        category = entry[\"category\"]\n",
    "        \n",
    "        for approach, attempts in entry[\"output\"].items():\n",
    "            if approach not in results:\n",
    "                results[approach] = []\n",
    "\n",
    "            # Get the highest rating among all attempts for the objective per approach\n",
    "            ratings = [attempt[\"rating\"] for attempt in attempts]\n",
    "            highest_rating = max(ratings) if ratings else 0\n",
    "            results[approach].append(highest_rating)\n",
    "    \n",
    "    # Calculate the average of the highest ratings\n",
    "    avg_ratings = {\n",
    "        approach: sum(ratings) / len(ratings)\n",
    "        for approach, ratings in results.items()\n",
    "    }\n",
    "    \n",
    "    return avg_ratings"
   ]
  },
  {
   "cell_type": "code",
   "execution_count": 13,
   "metadata": {},
   "outputs": [
    {
     "name": "stdout",
     "output_type": "stream",
     "text": [
      "LLaMA-2-7B\n",
      "- [Defense] Average rating: 7.0/10\n",
      "Vicuna-13B\n",
      "- [Defense] Average rating: 10.0/10\n",
      "GPT-3.5 Turbo\n",
      "- [Defense] Average rating: 8.5/10\n",
      "GPT-4o\n",
      "- [Defense] Average rating: 9.7/10\n"
     ]
    }
   ],
   "source": [
    "for model_name, results in zip(MODEL_NAMES, all_results):\n",
    "    print(model_name)\n",
    "    avg_ratings = summarize_results(results, model_name)\n",
    "    for approach, avg_rating in avg_ratings.items():\n",
    "        print(f\"- [{approach}] Average rating: {avg_rating:.1f}/10\")"
   ]
  }
 ],
 "metadata": {
  "kernelspec": {
   "display_name": "Python 3 (ipykernel)",
   "language": "python",
   "name": "python3"
  },
  "language_info": {
   "codemirror_mode": {
    "name": "ipython",
    "version": 3
   },
   "file_extension": ".py",
   "mimetype": "text/x-python",
   "name": "python",
   "nbconvert_exporter": "python",
   "pygments_lexer": "ipython3",
   "version": "3.11.7"
  }
 },
 "nbformat": 4,
 "nbformat_minor": 4
}
