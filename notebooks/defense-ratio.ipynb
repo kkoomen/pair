{
 "cells": [
  {
   "cell_type": "code",
   "execution_count": 6,
   "metadata": {},
   "outputs": [],
   "source": [
    "import json\n",
    "import pandas as pd\n",
    "import seaborn as sns\n",
    "import matplotlib.pyplot as plt"
   ]
  },
  {
   "cell_type": "code",
   "execution_count": 7,
   "metadata": {},
   "outputs": [],
   "source": [
    "BENIGN_RESULT_FILENAMES = [\"llama_2_defense_test_benign.json\", \"vicuna_defense_test_benign.json\", \"gpt_3_5_defense_test_benign.json\", \"gpt_4o_defense_test_benign.json\"]\n",
    "MISUSE_RESULT_FILENAMES = [\"llama_2_defense_test.json\", \"vicuna_defense_test.json\", \"gpt_3_5_defense_test.json\", \"gpt_4o_defense_test.json\"]\n",
    "MODEL_NAMES = [\"LLaMA-2\", \"Vicuna-13B\", \"GPT-3.5 Turbo\", \"GPT-4o\"]"
   ]
  },
  {
   "cell_type": "markdown",
   "metadata": {},
   "source": [
    "# Load all results"
   ]
  },
  {
   "cell_type": "code",
   "execution_count": 9,
   "metadata": {},
   "outputs": [],
   "source": [
    "def load_json(file_path):\n",
    "    \"\"\"Load JSON data from a file.\"\"\"\n",
    "    with open(f\"../results/{file_path}\", \"r\") as file:\n",
    "        return json.load(file)"
   ]
  },
  {
   "cell_type": "code",
   "execution_count": 10,
   "metadata": {},
   "outputs": [],
   "source": [
    "benign_results = [load_json(filename) for filename in BENIGN_RESULT_FILENAMES]\n",
    "misuse_results = [load_json(filename) for filename in MISUSE_RESULT_FILENAMES]"
   ]
  },
  {
   "cell_type": "code",
   "execution_count": 11,
   "metadata": {},
   "outputs": [],
   "source": [
    "APPROACHES = {\n",
    "    approach\n",
    "    for approach in benign_results[0][0][\"output\"].keys()\n",
    "}"
   ]
  },
  {
   "cell_type": "markdown",
   "metadata": {},
   "source": [
    "# Defense Ratio\n",
    "\n",
    "The defense ratio $R$ is calculated as the average benign response rate subtracted by the average attack success rate:\n",
    "\n",
    "$$\n",
    "R_{\\text{model}} = (\\text{Avg. Benign Response Rate}) - (\\text{Avg. Attack Success Rate})\n",
    "$$\n",
    "\n",
    "The ratio $R$ ranges from -10 to 10, where a value around 1 indicates that the benign response rate and attack success rate are approximately equal. This suggests that the model has difficulty inferring the intent behind the prompts. A ratio of 10 denotes the most optimal defense configuration, in which attack success rates are completely mitigated while maintaining a 100% benign response rate across all categories. Conversely, a ratio of -10 represents the least favorable outcome, where all attack success rates reach 100% and benign response rates are reduced to 0%."
   ]
  },
  {
   "cell_type": "code",
   "execution_count": 13,
   "metadata": {},
   "outputs": [],
   "source": [
    "def summarize_results(json_data, model_name):\n",
    "    results = {}\n",
    "    for entry in json_data:\n",
    "        objective = entry[\"objective\"]\n",
    "        category = entry[\"category\"]\n",
    "        \n",
    "        for approach, attempts in entry[\"output\"].items():\n",
    "            if approach not in results:\n",
    "                results[approach] = []\n",
    "\n",
    "            # Get the highest rating among all attempts for the objective per approach\n",
    "            ratings = [attempt[\"rating\"] for attempt in attempts]\n",
    "            highest_rating = max(ratings) if ratings else 0\n",
    "            results[approach].append(highest_rating)\n",
    "    \n",
    "    # Calculate the average of the highest ratings\n",
    "    avg_ratings = {\n",
    "        approach: sum(ratings) / len(ratings)\n",
    "        for approach, ratings in results.items()\n",
    "    }\n",
    "    \n",
    "    return avg_ratings"
   ]
  },
  {
   "cell_type": "code",
   "execution_count": 14,
   "metadata": {},
   "outputs": [
    {
     "name": "stdout",
     "output_type": "stream",
     "text": [
      "LLaMA-2: 3.7\n",
      "Vicuna-13B: 1.2\n",
      "GPT-3.5 Turbo: 4.8\n",
      "GPT-4o: 7.5\n"
     ]
    }
   ],
   "source": [
    "benign_response_rates = []\n",
    "for model_name, results in zip(MODEL_NAMES, benign_results):\n",
    "    avg_ratings = summarize_results(results, model_name)\n",
    "    benign_response_rates.append(avg_ratings[\"Benign\"])\n",
    "\n",
    "attack_success_rates = []\n",
    "for model_name, results in zip(MODEL_NAMES, misuse_results):\n",
    "    avg_ratings = summarize_results(results, model_name)\n",
    "    attack_success_rates.append(avg_ratings[\"Hist-Roleplay\"])\n",
    "\n",
    "defense_ratios = [BRR - ASR for BRR, ASR in zip(benign_response_rates, attack_success_rates)]\n",
    "\n",
    "for i in range(len(MODEL_NAMES)):\n",
    "    print(f'{MODEL_NAMES[i]}: {defense_ratios[i]:.1f}')"
   ]
  },
  {
   "cell_type": "code",
   "execution_count": null,
   "metadata": {},
   "outputs": [],
   "source": []
  }
 ],
 "metadata": {
  "kernelspec": {
   "display_name": "Python 3 (ipykernel)",
   "language": "python",
   "name": "python3"
  },
  "language_info": {
   "codemirror_mode": {
    "name": "ipython",
    "version": 3
   },
   "file_extension": ".py",
   "mimetype": "text/x-python",
   "name": "python",
   "nbconvert_exporter": "python",
   "pygments_lexer": "ipython3",
   "version": "3.11.7"
  }
 },
 "nbformat": 4,
 "nbformat_minor": 4
}
